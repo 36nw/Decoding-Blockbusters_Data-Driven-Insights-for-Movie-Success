{
 "cells": [
  {
   "cell_type": "markdown",
   "id": "7731511f-7958-4212-a687-9c59531389b7",
   "metadata": {},
   "source": [
    "# Movie Recommendation System"
   ]
  },
  {
   "cell_type": "markdown",
   "id": "b585f9e3-a687-407f-a011-214672403ccd",
   "metadata": {
    "tags": []
   },
   "source": [
    "### 1. Import Libraries"
   ]
  },
  {
   "cell_type": "code",
   "execution_count": 1,
   "id": "2f2204dc-8950-49b7-a797-f07e3966a565",
   "metadata": {
    "tags": []
   },
   "outputs": [],
   "source": [
    "# Import necessary libraries for data analysis and visualization\n",
    "import numpy as np  # Numerical computations\n",
    "import pandas as pd  # Data manipul* ation\n",
    "import matplotlib.pyplot as plt  # Visualizations\n",
    "import seaborn as sns  # Advanced visualizations"
   ]
  },
  {
   "cell_type": "markdown",
   "id": "0a5906bf-b861-4d00-a88a-ca2acce3c57f",
   "metadata": {
    "tags": []
   },
   "source": [
    "### 2. Load Dataset"
   ]
  },
  {
   "cell_type": "code",
   "execution_count": 2,
   "id": "92936986-6f49-40d2-90e4-c0bfa269669e",
   "metadata": {
    "tags": []
   },
   "outputs": [],
   "source": [
    "data = pd.read_csv(\"C:/Users/muge/Dropbox/GMU/Portfolio/AIT 580/Movies/cleaned_movies_data.csv\")"
   ]
  },
  {
   "cell_type": "markdown",
   "id": "fc464070-8741-4264-b23b-63c6d1b8a6ed",
   "metadata": {},
   "source": [
    "### 3. Dataset Structure & Cleaning"
   ]
  },
  {
   "cell_type": "code",
   "execution_count": 3,
   "id": "2cd71d46-f3dd-4f04-abbc-06c23d04bb8e",
   "metadata": {
    "tags": []
   },
   "outputs": [
    {
     "name": "stdout",
     "output_type": "stream",
     "text": [
      "<class 'pandas.core.frame.DataFrame'>\n",
      "RangeIndex: 2544 entries, 0 to 2543\n",
      "Data columns (total 19 columns):\n",
      " #   Column                  Non-Null Count  Dtype  \n",
      "---  ------                  --------------  -----  \n",
      " 0   Title                   2544 non-null   object \n",
      " 1   US Gross                2544 non-null   float64\n",
      " 2   Worldwide Gross         2544 non-null   float64\n",
      " 3   US DVD Sales            2544 non-null   float64\n",
      " 4   Production Budget       2544 non-null   float64\n",
      " 5   Release Date            2537 non-null   object \n",
      " 6   MPAA Rating             2452 non-null   object \n",
      " 7   Running Time (min)      2544 non-null   float64\n",
      " 8   Distributor             2544 non-null   object \n",
      " 9   Source                  2544 non-null   object \n",
      " 10  Major Genre             2544 non-null   object \n",
      " 11  Creative Type           2544 non-null   object \n",
      " 12  Director                2544 non-null   object \n",
      " 13  Rotten Tomatoes Rating  2544 non-null   float64\n",
      " 14  IMDB Rating             2544 non-null   float64\n",
      " 15  IMDB Votes              2544 non-null   float64\n",
      " 16  Release Year            2537 non-null   float64\n",
      " 17  Profit                  2544 non-null   float64\n",
      " 18  ROI                     2544 non-null   float64\n",
      "dtypes: float64(11), object(8)\n",
      "memory usage: 377.8+ KB\n"
     ]
    },
    {
     "data": {
      "text/plain": [
       "Title                      0\n",
       "US Gross                   0\n",
       "Worldwide Gross            0\n",
       "US DVD Sales               0\n",
       "Production Budget          0\n",
       "Release Date               7\n",
       "MPAA Rating               92\n",
       "Running Time (min)         0\n",
       "Distributor                0\n",
       "Source                     0\n",
       "Major Genre                0\n",
       "Creative Type              0\n",
       "Director                   0\n",
       "Rotten Tomatoes Rating     0\n",
       "IMDB Rating                0\n",
       "IMDB Votes                 0\n",
       "Release Year               7\n",
       "Profit                     0\n",
       "ROI                        0\n",
       "dtype: int64"
      ]
     },
     "execution_count": 3,
     "metadata": {},
     "output_type": "execute_result"
    }
   ],
   "source": [
    "#1. Check the structure of the dataset:\n",
    "#Look for missing values, data types, and basic statistics.\n",
    "# Check the data types and missing values\n",
    "data.info()\n",
    "\n",
    "# Display basic statistics for numerical columns\n",
    "data.describe()\n",
    "\n",
    "# Check for missing values\n",
    "data.isnull().sum()"
   ]
  },
  {
   "cell_type": "code",
   "execution_count": 4,
   "id": "5e2e7c91-8c3d-4599-bd60-9608432170b9",
   "metadata": {
    "tags": []
   },
   "outputs": [
    {
     "name": "stdout",
     "output_type": "stream",
     "text": [
      "Title                             object\n",
      "US Gross                         float64\n",
      "Worldwide Gross                  float64\n",
      "US DVD Sales                     float64\n",
      "Production Budget                float64\n",
      "Release Date              datetime64[ns]\n",
      "MPAA Rating                     category\n",
      "Running Time (min)               float64\n",
      "Distributor                       object\n",
      "Source                            object\n",
      "Major Genre                       object\n",
      "Creative Type                     object\n",
      "Director                          object\n",
      "Rotten Tomatoes Rating           float64\n",
      "IMDB Rating                      float64\n",
      "IMDB Votes                       float64\n",
      "Release Year                     float64\n",
      "Profit                           float64\n",
      "ROI                              float64\n",
      "dtype: object\n"
     ]
    }
   ],
   "source": [
    "# Convert 'Release Date' back to datetime\n",
    "data[\"Release Date\"] = pd.to_datetime(data[\"Release Date\"], errors='coerce')\n",
    "\n",
    "# Convert 'MPAA Rating' back to category\n",
    "rating_order = [\"unknown\", \"g\", \"pg\", \"pg-13\", \"r\", \"nc-17\"]\n",
    "data[\"MPAA Rating\"] = pd.Categorical(data[\"MPAA Rating\"], categories=rating_order, ordered=True)\n",
    "\n",
    "# Confirm the data types\n",
    "print(data.dtypes)"
   ]
  },
  {
   "cell_type": "code",
   "execution_count": 5,
   "id": "08f944ac-ddac-4a44-86f4-fe2795d55a22",
   "metadata": {
    "tags": []
   },
   "outputs": [],
   "source": [
    "# Handle missing values:\n",
    "# Decide how to handle missing values: remove rows, impute missing values, or ignore certain columns.\n",
    "# Drop rows with missing 'Release Year'\n",
    "data = data.dropna(subset=['Release Year'])\n",
    "\n",
    "# We could fill missing values in MPAA Rating column. Here I chose to not do it.\n",
    "# data['MPAA Rating'].fillna('Unknown', inplace=True)"
   ]
  },
  {
   "cell_type": "markdown",
   "id": "6addd928-9855-4c27-b508-8240a4de9b67",
   "metadata": {},
   "source": [
    "### 4. Movie Recommendation Function Based on Similarity"
   ]
  },
  {
   "cell_type": "markdown",
   "id": "9997340e-e27d-4e7e-9fd9-0227fed1f9f6",
   "metadata": {},
   "source": [
    "#### 1. Content-Based Filtering"
   ]
  },
  {
   "cell_type": "markdown",
   "id": "3a39076a-aaf2-4a9f-8a5a-dc89e6b15c04",
   "metadata": {},
   "source": [
    "Content-based filtering recommends movies based on the similarity of movie features (like Genre, Director, Creative Type). We will calculate the similarity between movies using these features and recommend similar movies to a user based on a given movie."
   ]
  },
  {
   "cell_type": "markdown",
   "id": "afb9ae23-d2af-435d-b3a0-0528268c0908",
   "metadata": {},
   "source": [
    "Steps:\n",
    "* Create a feature vector for each movie based on relevant features like Genre, Director, and Creative Type.\n",
    "* Calculate similarity between movies using cosine similarity (or any other distance measure).\n",
    "* Recommend movies similar to a given movie."
   ]
  },
  {
   "cell_type": "code",
   "execution_count": 6,
   "id": "94429e36-1291-4c66-bcc2-40a7999e41f4",
   "metadata": {
    "tags": []
   },
   "outputs": [
    {
     "name": "stdout",
     "output_type": "stream",
     "text": [
      "True\n",
      "5                    mississippi mermaid\n",
      "9                        duel in the sun\n",
      "10                             tom jones\n",
      "12                 to kill a mockingbird\n",
      "14                     hollywood shuffle\n",
      "15        over the hill to the poorhouse\n",
      "16                                wilson\n",
      "33                       51 birch street\n",
      "58    sweet sweetback's baad asssss song\n",
      "63                       barbarians, the\n",
      "Name: Title_normalized, dtype: object\n"
     ]
    }
   ],
   "source": [
    "import pandas as pd\n",
    "from sklearn.feature_extraction.text import TfidfVectorizer\n",
    "from sklearn.metrics.pairwise import cosine_similarity\n",
    "\n",
    "# If the 'features' column does not exist, we can still combine the other columns like this:\n",
    "data['features'] = data['Major Genre'] + ' ' + data['Director'] + ' ' + data['Creative Type']\n",
    "\n",
    "# Initialize the TfidfVectorizer\n",
    "tfidf = TfidfVectorizer(stop_words='english')\n",
    "\n",
    "# Create the TF-IDF matrix for the 'features' column\n",
    "tfidf_matrix = tfidf.fit_transform(data['features'])\n",
    "\n",
    "# Compute the cosine similarity between all movies\n",
    "cosine_sim = cosine_similarity(tfidf_matrix, tfidf_matrix)\n",
    "\n",
    "# Normalize titles\n",
    "data['Title_normalized'] = data['Title'].str.strip().str.lower()\n",
    "\n",
    "# Now check for the normalized version of 'The Matrix'\n",
    "print('wilson' in data['Title_normalized'].values)  # Should return True if the title exists in any case or with spaces\n",
    "\n",
    "# Function to get movie recommendations based on similarity\n",
    "def get_recommendations(title, cosine_sim=cosine_sim):\n",
    "    # Get the index of the movie that matches the title\n",
    "    idx = data.index[data['Title_normalized'] == title].tolist()[0]\n",
    "    \n",
    "    # Get the pairwise similarity scores of all movies with that movie\n",
    "    sim_scores = list(enumerate(cosine_sim[idx]))\n",
    "    \n",
    "    # Sort the movies based on the similarity scores\n",
    "    sim_scores = sorted(sim_scores, key=lambda x: x[1], reverse=True)\n",
    "    \n",
    "    # Get the scores of the top 10 most similar movies\n",
    "    sim_scores = sim_scores[1:11]\n",
    "    \n",
    "    # Get the movie indices\n",
    "    movie_indices = [i[0] for i in sim_scores]\n",
    "    \n",
    "    # Return the top 10 most similar movies\n",
    "    return data['Title_normalized'].iloc[movie_indices]\n",
    "\n",
    "# Example: Get recommendations for a given movie title\n",
    "recommended_movies = get_recommendations('the land girls')  # Replace 'The Matrix' with a movie in the dataset\n",
    "print(recommended_movies)"
   ]
  },
  {
   "cell_type": "markdown",
   "id": "94b9235d-c5e6-45f3-91e8-3b94b09b4541",
   "metadata": {},
   "source": [
    "The output shows the 10 movies that are most similar to \"the land girls\" based on the content of their 'features' column (genre, director, creative type):\n",
    "\n",
    "Key Observations and Insights:\n",
    "* Content-Based Recommendations: The recommendations are based on the similarity of the movie's genre, director, and creative type, not on user ratings or popularity.\n",
    "* Potential for Further Improvement: The recommendations might not always be perfect, as they are based on a limited set of features. we could improve the system by including more features, such as actors, plot keywords, or user reviews.\n",
    "* TF-IDF Effectiveness: TF-IDF vectorization is a simple but effective way to represent text data for similarity calculations.\n",
    "* Cosine Similarity Suitability: Cosine similarity is a good metric for measuring the similarity between text documents.\n",
    "* Normalization Importance: Normalizing titles ensures that the recommendation system works correctly even with variations in capitalization and spacing.\n",
    "\n",
    "This code demonstrates a basic content-based movie recommendation system that uses TF-IDF and cosine similarity to find movies similar to a given movie. The recommendations are based on the movie's genre, director, and creative type, and the system can be further improved by incorporating more features."
   ]
  },
  {
   "cell_type": "code",
   "execution_count": 7,
   "id": "1b14f3be-fed9-4d3e-bd08-acdea0e4a181",
   "metadata": {
    "tags": []
   },
   "outputs": [
    {
     "name": "stdout",
     "output_type": "stream",
     "text": [
      "0                     the land girls\n",
      "1             first love, last rites\n",
      "2         i married a strange person\n",
      "3               let's talk about sex\n",
      "4                               slam\n",
      "5                mississippi mermaid\n",
      "6                          following\n",
      "7                            foolish\n",
      "8                            pirates\n",
      "9                    duel in the sun\n",
      "10                         tom jones\n",
      "11                           oliver!\n",
      "12             to kill a mockingbird\n",
      "13                  tora, tora, tora\n",
      "14                 hollywood shuffle\n",
      "15    over the hill to the poorhouse\n",
      "16                            wilson\n",
      "17                      darling lili\n",
      "18                      12 angry men\n",
      "19                    twelve monkeys\n",
      "Name: Title_normalized, dtype: object\n"
     ]
    }
   ],
   "source": [
    "print(data['Title_normalized'].head(20))  # This will print the first 20 movie titles in the dataset"
   ]
  },
  {
   "cell_type": "markdown",
   "id": "e3cc193e-e08c-4052-8f71-7a94efdde1d6",
   "metadata": {},
   "source": [
    "### 2. Collaborative Filtering Using Surprise Library"
   ]
  },
  {
   "cell_type": "markdown",
   "id": "15ee72cc-d651-47fe-986f-4a4952bdb51b",
   "metadata": {},
   "source": [
    "#### A. Collaborative Filtering (User-Based or Item-Based)"
   ]
  },
  {
   "cell_type": "markdown",
   "id": "6e936fd5-4fe9-4eec-bd83-1984b2ae2dad",
   "metadata": {},
   "source": [
    "Collaborative filtering makes recommendations based on the interactions (ratings) between users and items (movies). Since we don’t have user ratings data in the dataset, let’s assume that we would have ratings data, and we will implement user-based collaborative filtering."
   ]
  },
  {
   "cell_type": "markdown",
   "id": "e84e18da-7bb4-4ce1-880f-c65308301f4a",
   "metadata": {},
   "source": [
    "Steps:\n",
    "* Prepare the ratings dataset (assumed to have userId, movieId, and rating).\n",
    "* Train a collaborative filtering model (e.g., using KNNBasic, SVD, or other models in Surprise).\n",
    "* Recommend movies based on similar users."
   ]
  },
  {
   "cell_type": "code",
   "execution_count": 8,
   "id": "2d05bfc4-2efe-4422-9277-9da5a606feda",
   "metadata": {
    "tags": []
   },
   "outputs": [
    {
     "data": {
      "text/plain": [
       "Index(['Title', 'US Gross', 'Worldwide Gross', 'US DVD Sales',\n",
       "       'Production Budget', 'Release Date', 'MPAA Rating',\n",
       "       'Running Time (min)', 'Distributor', 'Source', 'Major Genre',\n",
       "       'Creative Type', 'Director', 'Rotten Tomatoes Rating', 'IMDB Rating',\n",
       "       'IMDB Votes', 'Release Year', 'Profit', 'ROI', 'features',\n",
       "       'Title_normalized'],\n",
       "      dtype='object')"
      ]
     },
     "execution_count": 8,
     "metadata": {},
     "output_type": "execute_result"
    }
   ],
   "source": [
    "data.columns"
   ]
  },
  {
   "cell_type": "code",
   "execution_count": 9,
   "id": "1935dda9-68e5-47b7-ada0-34b64b5f29dd",
   "metadata": {
    "tags": []
   },
   "outputs": [],
   "source": [
    "# pip install scikit-surprise"
   ]
  },
  {
   "cell_type": "markdown",
   "id": "46c66994-b82e-4cdf-87a0-a96060b52f80",
   "metadata": {},
   "source": [
    "##### Step 1: Generate the Synthetic Ratings Dataset"
   ]
  },
  {
   "cell_type": "markdown",
   "id": "a7af3c58-6738-4bab-a823-d640df373964",
   "metadata": {},
   "source": [
    "We will create synthetic ratings using userId, movieId, and rating. To make it more realistic, we will assume that each movie has a unique movieId corresponding to the Title column."
   ]
  },
  {
   "cell_type": "markdown",
   "id": "502a155a-f838-4927-903a-7de9661ab92f",
   "metadata": {
    "tags": []
   },
   "source": [
    "Our dataset does not currently contain user IDs, movie IDs, or explicit user ratings, which are required for collaborative filtering. So this code generates a synthetic dataset rather than using our actual dataset. If we want to apply collaborative filtering to our real dataset, we'll need to replace the synthetic data generation with real dataset containing these."
   ]
  },
  {
   "cell_type": "code",
   "execution_count": 10,
   "id": "c3c7c34a-bd83-41b6-ae5c-bf47ecfef553",
   "metadata": {
    "tags": []
   },
   "outputs": [
    {
     "name": "stdout",
     "output_type": "stream",
     "text": [
      "   userId  movieId  rating\n",
      "0       4        1       3\n",
      "1       5        2       4\n",
      "2       3        3       2\n",
      "3       5        4       2\n",
      "4       5        5       3\n"
     ]
    }
   ],
   "source": [
    "from surprise import Dataset, Reader\n",
    "from surprise.model_selection import train_test_split\n",
    "from surprise import KNNBasic\n",
    "from surprise import accuracy\n",
    "\n",
    "# Example data with some features we have (simulating user-based ratings)\n",
    "# Assume that the movie dataset is called 'data'\n",
    "\n",
    "np.random.seed(42)  # For reproducibility\n",
    "\n",
    "# Create user IDs and movie IDs (assuming 5 users for this example)\n",
    "num_users = 5\n",
    "num_movies = len(data)  # Number of movies\n",
    "\n",
    "# Generate random user IDs for each movie (movies rated by users)\n",
    "user_ids = np.random.randint(1, num_users + 1, size=num_movies)\n",
    "\n",
    "# Generate movie IDs based on the index\n",
    "movie_ids = np.arange(1, num_movies + 1)\n",
    "\n",
    "# Generate random ratings (between 1 and 5)\n",
    "ratings = np.random.randint(1, 6, size=num_movies)\n",
    "\n",
    "# Create a synthetic ratings dataframe\n",
    "ratings_df = pd.DataFrame({\n",
    "    'userId': user_ids,\n",
    "    'movieId': movie_ids,\n",
    "    'rating': ratings\n",
    "})\n",
    "\n",
    "# Show the first few rows of the ratings dataset\n",
    "print(ratings_df.head())"
   ]
  },
  {
   "cell_type": "markdown",
   "id": "b8222749-6e73-4cc5-98f9-ed863d0aa6e6",
   "metadata": {},
   "source": [
    "##### Step 2: Train the Collaborative Filtering Model"
   ]
  },
  {
   "cell_type": "markdown",
   "id": "d363ce1e-9332-4889-a688-bdc40ff23bb8",
   "metadata": {},
   "source": [
    "We can now train a KNNBasic collaborative filtering model from the Surprise library using the synthetic ratings data."
   ]
  },
  {
   "cell_type": "code",
   "execution_count": 11,
   "id": "5e248a06-9831-4c62-8e8e-b41d804e3b3f",
   "metadata": {
    "tags": []
   },
   "outputs": [
    {
     "name": "stdout",
     "output_type": "stream",
     "text": [
      "Computing the cosine similarity matrix...\n",
      "Done computing similarity matrix.\n",
      "RMSE: 1.4352\n",
      "RMSE: 1.4351523890664715\n"
     ]
    }
   ],
   "source": [
    "# Initialize the Reader for Surprise\n",
    "reader = Reader(rating_scale=(1, 5))\n",
    "\n",
    "# Load the ratings dataset into the Surprise format\n",
    "data_surprise = Dataset.load_from_df(ratings_df[['userId', 'movieId', 'rating']], reader)\n",
    "\n",
    "# Split the dataset into training and testing\n",
    "trainset, testset = train_test_split(data_surprise, test_size=0.2)\n",
    "\n",
    "# Initialize the KNNBasic model\n",
    "sim_options = {\n",
    "    'name': 'cosine',\n",
    "    'user_based': True  # Use user-based collaborative filtering\n",
    "}\n",
    "model = KNNBasic(sim_options=sim_options)\n",
    "\n",
    "# Train the model\n",
    "model.fit(trainset)\n",
    "\n",
    "# Evaluate the model using RMSE (Root Mean Square Error)\n",
    "predictions = model.test(testset)\n",
    "print(f'RMSE: {accuracy.rmse(predictions)}')"
   ]
  },
  {
   "cell_type": "markdown",
   "id": "100ec186-700e-4957-a4f8-ad74b89df200",
   "metadata": {},
   "source": [
    "* User-Based Collaborative Filtering: The model uses user-based collaborative filtering, meaning it makes predictions based on the ratings of users who are similar to the target user.\n",
    "* Cosine Similarity: Cosine similarity is used to measure user similarity.\n",
    "* RMSE Evaluation: The RMSE is 1.4352. This means that, on average, the model's predictions are about 1.4352 rating points away from the actual ratings.\n",
    "\n",
    "RMSE Interpretation:\n",
    "* The RMSE value of 1.4352 indicates a relatively high error.\n",
    "* Given that the rating scale is from 1 to 5, an error of 1.4352 suggests that the model's predictions are not very accurate.\n",
    "* This could be due to several factors, such as:\n",
    "    * Sparsity of the data (users may have rated only a few movies).\n",
    "    * Lack of strong user similarities.\n",
    "    * The inherent difficulty of predicting movie ratings.\n",
    "\n",
    "Possible Improvements:\n",
    "* Try Different Similarity Metrics: Experiment with other similarity metrics, such as Pearson correlation.\n",
    "* Tune K: Adjust the number of neighbors (K) used in the KNN algorithm.\n",
    "* Use Item-Based Collaborative Filtering: Try item-based collaborative filtering instead of user-based.\n",
    "* Try Different Algorithms: Explore other collaborative filtering algorithms, such as SVD or NMF.\n",
    "* Feature Engineering: If we had additional information about users or movies, we could incorporate it into the model.\n",
    "\n",
    "The results show that the user-based KNN collaborative filtering model has an RMSE of 1.4352, indicating that its predictions are not very accurate. Further experimentation and model tuning are needed to improve the performance of the recommendation system."
   ]
  },
  {
   "cell_type": "markdown",
   "id": "9db639b3-14fe-467b-9fb5-9b3ceb39b0fc",
   "metadata": {},
   "source": [
    "#### Movie Recommendations Based on User Preferences"
   ]
  },
  {
   "cell_type": "markdown",
   "id": "4bcaa924-fd44-4bcc-b31b-b065735c09e6",
   "metadata": {},
   "source": [
    "##### Step 3: Recommend Movies for a User"
   ]
  },
  {
   "cell_type": "markdown",
   "id": "e96c3587-0d5b-44fc-bd9c-48f5c979cdb6",
   "metadata": {},
   "source": [
    "Now that we have trained the collaborative filtering model, we can make movie recommendations for a user based on similar users’ preferences. We will generate movie recommendations for a specific userId."
   ]
  },
  {
   "cell_type": "code",
   "execution_count": 12,
   "id": "a1870de5-9e3d-401b-94d7-8b5b1911ceeb",
   "metadata": {
    "tags": []
   },
   "outputs": [
    {
     "name": "stdout",
     "output_type": "stream",
     "text": [
      "['20,000 Leagues Under the Sea' \"April Fool's Day\" 'Chain Reaction'\n",
      " 'Clockwatchers' 'Dawn of the Dead']\n"
     ]
    }
   ],
   "source": [
    "# Function to get movie recommendations for a given user\n",
    "def get_movie_recommendations(user_id, model, num_recommendations=5):\n",
    "    # Get all movie ids\n",
    "    movie_ids = np.arange(1, num_movies + 1)\n",
    "    \n",
    "    # Predict ratings for all movies for the given user\n",
    "    predictions = [model.predict(user_id, movie_id) for movie_id in movie_ids]\n",
    "    \n",
    "    # Sort predictions by estimated rating (in descending order)\n",
    "    predictions.sort(key=lambda x: x.est, reverse=True)\n",
    "    \n",
    "    # Get the top N recommendations\n",
    "    top_recommendations = predictions[:num_recommendations]\n",
    "    \n",
    "    # Get the movie IDs corresponding to the recommended movie titles\n",
    "    recommended_movie_ids = [pred.iid for pred in top_recommendations]\n",
    "    \n",
    "    # Adjust for 0-based indexing\n",
    "    recommended_titles = data['Title'].iloc[recommended_movie_ids].values  # No need to subtract 1\n",
    "    \n",
    "    return recommended_titles\n",
    "\n",
    "# Example: Get movie recommendations for user 1\n",
    "recommended_movies = get_movie_recommendations(1, model, num_recommendations=5)\n",
    "print(recommended_movies)"
   ]
  },
  {
   "cell_type": "markdown",
   "id": "e4c97339-4468-4c4e-9475-7db4d0030809",
   "metadata": {},
   "source": [
    "Explanation:\n",
    "* model.predict(user_id, movie_id): This generates predicted ratings for each movie based on the user's past interactions (even though it's simulated here, it works for a collaborative filtering model).\n",
    "* pred.iid: This is the predicted movie ID. The assumption is that movie IDs match the dataset's index or are aligned in some way.\n",
    "* Now, when we call get_movie_recommendations(1, model, num_recommendations=5), it should print the top 5 recommended movie titles for user 1. "
   ]
  },
  {
   "cell_type": "markdown",
   "id": "48560a8d-503b-4fbe-942b-4855607b3604",
   "metadata": {},
   "source": [
    "* Synthetic Ratings: We generated synthetic ratings for users based on movie features (this can be modified based on more realistic user interactions).\n",
    "* Collaborative Filtering: We used the KNNBasic model from the Surprise library to train the collaborative filtering algorithm.\n",
    "* Movie Recommendations: We made movie recommendations based on similar users."
   ]
  },
  {
   "cell_type": "markdown",
   "id": "695583a7-35cd-4d6b-838f-4ff0a1711c81",
   "metadata": {},
   "source": [
    "#### B. Collaborative Filtering (User-Based or Item-Based) using IMDB rating"
   ]
  },
  {
   "cell_type": "markdown",
   "id": "c85850fd-da17-4f45-a867-44cd671e8ede",
   "metadata": {},
   "source": [
    "The dataset doesn't contain explicit user ratings, so we'll need to simulate user interactions to make collaborative filtering work. Since IMDB Rating is already a numerical value, we can treat it as the \"rating.\"\n",
    "\n",
    "Plan for Collaborative Filtering with the Data\n",
    "Since we don't have user IDs, we will:\n",
    "1. Simulate user IDs by assigning random users to each movie.\n",
    "2. Use IMDB Ratings as the \"rating\" column.\n",
    "3. Train a User-Based Collaborative Filtering Model using Surprise."
   ]
  },
  {
   "cell_type": "markdown",
   "id": "d51249e2-ba38-4125-9af1-2d4706757d2a",
   "metadata": {},
   "source": [
    "##### Step 1: Prepare the Data\n"
   ]
  },
  {
   "cell_type": "code",
   "execution_count": 13,
   "id": "8a2c6aad-7cb0-4d1e-8186-9fb5dc31fb76",
   "metadata": {
    "tags": []
   },
   "outputs": [
    {
     "name": "stdout",
     "output_type": "stream",
     "text": [
      "   userId                     movieId  rating\n",
      "0     990              the land girls     6.1\n",
      "1     626      first love, last rites     6.9\n",
      "2     491  i married a strange person     6.8\n",
      "3     255        let's talk about sex     6.4\n",
      "4     381                        slam     3.4\n"
     ]
    }
   ],
   "source": [
    "from surprise import Dataset, Reader\n",
    "from surprise.model_selection import train_test_split\n",
    "from surprise import KNNBasic, accuracy\n",
    "\n",
    "# Drop rows with missing IMDB Ratings\n",
    "df = data.dropna(subset=['IMDB Rating'])\n",
    "\n",
    "# Simulate User IDs (assign random users)\n",
    "num_users = 1000  # Simulate 1000 different users\n",
    "num_movies = len(df)\n",
    "\n",
    "# Assign a random user ID to each movie (as if different users rated different movies)\n",
    "df['userId'] = np.random.randint(1, num_users + 1, size=num_movies)\n",
    "\n",
    "# Rename columns for compatibility with Surprise\n",
    "df = df.rename(columns={'Title_normalized': 'movieId', 'IMDB Rating': 'rating'})\n",
    "\n",
    "# Select relevant columns\n",
    "ratings_df = df[['userId', 'movieId', 'rating']]\n",
    "\n",
    "# Display first few rows\n",
    "print(ratings_df.head())"
   ]
  },
  {
   "cell_type": "markdown",
   "id": "be2b9a0d-f141-47cc-b543-0b50e7c403f1",
   "metadata": {},
   "source": [
    "##### Step 2: Convert to Surprise Format"
   ]
  },
  {
   "cell_type": "code",
   "execution_count": 14,
   "id": "f3a7e663-cc1d-453e-b6ec-9bdaabe43551",
   "metadata": {
    "tags": []
   },
   "outputs": [],
   "source": [
    "# Define rating scale for IMDB Ratings (1-10)\n",
    "reader = Reader(rating_scale=(1, 10))\n",
    "\n",
    "# Load dataset into Surprise\n",
    "data_surprise = Dataset.load_from_df(ratings_df[['userId', 'movieId', 'rating']], reader)\n",
    "\n",
    "# Split into training and test sets\n",
    "trainset, testset = train_test_split(data_surprise, test_size=0.2)"
   ]
  },
  {
   "cell_type": "markdown",
   "id": "bc870070-383b-43b7-8280-22774a6d5d98",
   "metadata": {},
   "source": [
    "##### Step 3: Train a User-Based Collaborative Filtering Model"
   ]
  },
  {
   "cell_type": "code",
   "execution_count": 15,
   "id": "af71bba5-c79b-4f3c-a4ef-3fa021caf5cb",
   "metadata": {
    "tags": []
   },
   "outputs": [
    {
     "name": "stdout",
     "output_type": "stream",
     "text": [
      "Computing the cosine similarity matrix...\n",
      "Done computing similarity matrix.\n",
      "RMSE: 1.1348\n",
      "RMSE: 1.1348243466511567\n",
      "MAE:  0.8889\n",
      "MAE: 0.8889284508485232\n"
     ]
    }
   ],
   "source": [
    "# Define similarity options (cosine similarity, user-based)\n",
    "sim_options = {'name': 'cosine', 'user_based': True}\n",
    "\n",
    "# Initialize and train the model\n",
    "model = KNNBasic(sim_options=sim_options)\n",
    "model.fit(trainset)\n",
    "\n",
    "# Make predictions and evaluate\n",
    "predictions = model.test(testset)\n",
    "print(f'RMSE: {accuracy.rmse(predictions)}')\n",
    "print(f'MAE: {accuracy.mae(predictions)}')"
   ]
  },
  {
   "cell_type": "markdown",
   "id": "217816ef-e67f-471a-9aeb-86f4c38a466b",
   "metadata": {},
   "source": [
    "The model's performance is decent, but there's room for improvement.\n",
    "* An RMSE of 1.13 and an MAE of 0.89 suggest that the model's predictions have a reasonable level of accuracy, but there is still a notable average error.\n",
    "* The fact that the MAE is lower than the RMSE is normal. RMSE penalizes large errors more heavily than MAE.\n",
    "* Whether these values are \"good\" depends on the specific context and the nature of the rating scale. For example, in a 1-5 star rating system, an average error of around 1.13 stars might be considered moderate.\n",
    "\n",
    "Possible Improvements:\n",
    "* Parameter Tuning: Experiment with different values for the number of neighbors (k) in the KNN algorithm.\n",
    "* Different Similarity Metrics: Try other similarity metrics, such as Pearson correlation.\n",
    "* Item-Based Filtering: Consider using item-based collaborative filtering instead of user-based filtering.\n",
    "* Data Preprocessing: Explore techniques like normalization or scaling of ratings to improve similarity calculations.\n",
    "* Hybrid Approaches: Combine user-based and item-based filtering or incorporate other machine learning models.\n",
    "* Increase training data: increasing the size of the training dataset can improve the models accuracy."
   ]
  },
  {
   "cell_type": "markdown",
   "id": "0d0e1eff-0274-4e58-8af4-3ddbdc00c997",
   "metadata": {},
   "source": [
    "📌 Expected Outcome: \n",
    "The system will learn which users (randomly assigned) rate movies similarly and predict ratings for other movies.\n",
    "The RMSE and MAE scores will help us assess how well the model predicts ratings.\n",
    "\n",
    "❓ Want Recommendations for a Specific Movie?\n",
    "we can generate predictions for a specific movie like this:"
   ]
  },
  {
   "cell_type": "code",
   "execution_count": 16,
   "id": "7fcb789b-30cc-4ffb-a2a2-eafede93ee7f",
   "metadata": {
    "tags": []
   },
   "outputs": [
    {
     "name": "stdout",
     "output_type": "stream",
     "text": [
      "Actual IMDB Rating for Movie \"Mississippi Mermaid\": 6.4\n"
     ]
    }
   ],
   "source": [
    "movie_id = \"Mississippi Mermaid\"  # Movie title to search for\n",
    "\n",
    "# Extract the actual IMDB rating for the movie\n",
    "actual_rating = df[df[\"Title\"] == movie_id][\"rating\"].values\n",
    "\n",
    "if len(actual_rating) > 0:\n",
    "    actual_rating = actual_rating[0]\n",
    "    print(f'Actual IMDB Rating for Movie \"{movie_id}\": {actual_rating}')\n",
    "else:\n",
    "    print(f'Actual IMDB Rating for \"{movie_id}\" not found in dataset.')"
   ]
  },
  {
   "cell_type": "code",
   "execution_count": 17,
   "id": "2c32110d-4dc6-47b3-b408-69eca06201ff",
   "metadata": {
    "tags": []
   },
   "outputs": [
    {
     "name": "stdout",
     "output_type": "stream",
     "text": [
      "Predicted Rating for Movie Mississippi Mermaid: 6.3213405618531295\n"
     ]
    }
   ],
   "source": [
    "movie_id = \"Mississippi Mermaid\"  # Replace with a movie's normalized title\n",
    "user_id = 123  # A random user\n",
    "\n",
    "pred = model.predict(user_id, movie_id)\n",
    "print(f'Predicted Rating for Movie {movie_id}: {pred.est}')"
   ]
  },
  {
   "cell_type": "code",
   "execution_count": 18,
   "id": "68f2fee6-e07a-409a-88f7-28beb42d467d",
   "metadata": {
    "tags": []
   },
   "outputs": [
    {
     "name": "stdout",
     "output_type": "stream",
     "text": [
      "Predicted Rating for Movie \"Mississippi Mermaid\": 6.32\n",
      "Actual IMDB Rating for Movie \"Mississippi Mermaid\": 6.4\n",
      "Error (Difference): 0.08\n"
     ]
    }
   ],
   "source": [
    "movie_id = \"Mississippi Mermaid\"  # Movie title to search for\n",
    "user_id = 123  # Random user for prediction\n",
    "\n",
    "# Predict the rating using the trained model\n",
    "pred = model.predict(user_id, movie_id)\n",
    "\n",
    "# Extract the actual IMDB rating for the movie\n",
    "actual_rating = df[df[\"Title\"] == movie_id][\"rating\"].values\n",
    "\n",
    "if len(actual_rating) > 0:\n",
    "    actual_rating = actual_rating[0]\n",
    "    print(f'Predicted Rating for Movie \"{movie_id}\": {pred.est:.2f}')\n",
    "    print(f'Actual IMDB Rating for Movie \"{movie_id}\": {actual_rating}')\n",
    "    print(f'Error (Difference): {abs(pred.est - actual_rating):.2f}')\n",
    "else:\n",
    "    print(f'Actual IMDB Rating for \"{movie_id}\" not found in dataset.')"
   ]
  },
  {
   "cell_type": "markdown",
   "id": "def65c59-906f-4907-9220-0032208b71fb",
   "metadata": {},
   "source": [
    "Predicted Rating:\n",
    "* The model predicted that user 123 would rate \"Mississippi Mermaid\" a 6.32.\n",
    "Actual Rating:\n",
    "* The actual IMDB rating for \"Mississippi Mermaid\" in the dataset is 6.4.\n",
    "Error:\n",
    "* The difference between the predicted and actual ratings is 0.08. This is a very small error.\n",
    "\n",
    "Significance:\n",
    "\n",
    "Accuracy for a Single Prediction:\n",
    "* The very small error (0.08) indicates that, for this specific prediction, the model performed very well.\n",
    "Context:\n",
    "* It is important to remember that this is only one single prediction. The overall performance of the model is measured by the RMSE and MAE that were previously provided. This result shows that for this particular user and movie combination, the model was very accurate.\n",
    "Good Prediction:\n",
    "* A difference of 0.08 on a typical rating scale (like a 1-10 scale) is negligible. This indicates that the model's prediction was very close to the actual rating.\n",
    "\n",
    "In summary:\n",
    "The model made a very accurate prediction for user 123's rating of \"Mississippi Mermaid.\" This specific result is a good example of the model's ability to provide close predictions, but it is important to remember that the overall performance of the model should be judged by the RMSE and MAE values."
   ]
  },
  {
   "cell_type": "markdown",
   "id": "8dc714a0-7ec0-4c2b-bad5-d6171d58724f",
   "metadata": {},
   "source": [
    "#### 3. Clustering for Movie Recommendations (K-Means)"
   ]
  },
  {
   "cell_type": "markdown",
   "id": "c8742d17-7fc8-4d85-8773-bd5348f3f3c7",
   "metadata": {},
   "source": [
    "Clustering techniques like K-Means can group similar movies based on features (e.g., genre, director, and creative type), and then we can recommend movies from the same cluster."
   ]
  },
  {
   "cell_type": "markdown",
   "id": "b81c3a15-1e39-4f09-b93a-35fc90a653e0",
   "metadata": {},
   "source": [
    "Steps:\n",
    "* Use K-Means clustering to group movies based on selected features.\n",
    "* Recommend movies from the same cluster."
   ]
  },
  {
   "cell_type": "code",
   "execution_count": 19,
   "id": "6cf83f09-beee-4e13-aa5d-c3cfb762c52c",
   "metadata": {
    "tags": []
   },
   "outputs": [
    {
     "name": "stdout",
     "output_type": "stream",
     "text": [
      "1        First Love, Last Rites\n",
      "2    I Married a Strange Person\n",
      "3          Let's Talk About Sex\n",
      "4                          Slam\n",
      "5           Mississippi Mermaid\n",
      "Name: Title, dtype: object\n"
     ]
    }
   ],
   "source": [
    "from sklearn.cluster import KMeans\n",
    "from sklearn.preprocessing import LabelEncoder\n",
    "import numpy as np\n",
    "\n",
    "# Use selected features: Genre, Director, Creative Type\n",
    "# Convert categorical data to numerical using LabelEncoder\n",
    "encoder = LabelEncoder()\n",
    "data['Genre_encoded'] = encoder.fit_transform(data['Major Genre'])\n",
    "data['Director_encoded'] = encoder.fit_transform(data['Director'])\n",
    "data['Creative_Type_encoded'] = encoder.fit_transform(data['Creative Type'])\n",
    "\n",
    "# Select the relevant features for clustering\n",
    "features = data[['Genre_encoded', 'Director_encoded', 'Creative_Type_encoded']]\n",
    "\n",
    "# Apply K-Means clustering\n",
    "kmeans = KMeans(n_clusters=5, random_state=42)  # Adjust number of clusters as needed\n",
    "data['Cluster'] = kmeans.fit_predict(features)\n",
    "\n",
    "# Function to recommend movies based on the same cluster\n",
    "def recommend_cluster_movies(movie_title, data, n_recommendations=5):\n",
    "    movie_idx = data[data['Title'] == movie_title].index[0]\n",
    "    cluster = data.loc[movie_idx, 'Cluster']\n",
    "    \n",
    "    # Get all movies from the same cluster\n",
    "    cluster_movies = data[data['Cluster'] == cluster]\n",
    "    \n",
    "    # Exclude the original movie\n",
    "    cluster_movies = cluster_movies[cluster_movies['Title'] != movie_title]\n",
    "    \n",
    "    # Get top N recommendations from the same cluster\n",
    "    return cluster_movies['Title'].head(n_recommendations)\n",
    "\n",
    "# Example: Get movie recommendations based on clustering\n",
    "recommended_movies_cluster = recommend_cluster_movies('The Land Girls', data)\n",
    "print(recommended_movies_cluster)"
   ]
  },
  {
   "cell_type": "markdown",
   "id": "b54f911d-6d43-4c05-b5a8-9e108e256149",
   "metadata": {},
   "source": [
    "* Cluster-Based Recommendations: The recommendations are based on the cluster assigned to the input movie. Movies in the same cluster are considered similar based on their genre, director, and creative type.\n",
    "* Categorical Feature Similarity: The clustering is based on the similarity of categorical features, which might not always capture the full complexity of movie similarity.\n",
    "* Label Encoding: Label encoding is a simple way to convert categorical data to numerical data, but it can introduce arbitrary ordering between categories.\n",
    "* Limited Feature Set: The recommendation system is based on a limited set of features. Including more features, such as actors, plot keywords, or user ratings, could improve the recommendations.\n",
    "* Cluster Interpretation: To better understand the recommendations, we should analyze the characteristics of the movies within each cluster. For example, we could examine the most common genres, directors, and creative types in each cluster.\n",
    "\n",
    "The results show that the cluster-based recommendation system has recommended movies that are in the same cluster as \"The Land Girls\" based on their genre, director, and creative type. The recommendations might not always be perfect, and further experimentation and feature engineering are needed to improve the system."
   ]
  },
  {
   "cell_type": "markdown",
   "id": "051b7609-391b-40cf-a3dd-1579cd8c379e",
   "metadata": {},
   "source": [
    "##### Summary of Recommendation System:\n",
    "* Content-Based Filtering: Recommends movies based on similarities in attributes like Genre, Director, and Creative Type.\n",
    "* Collaborative Filtering: Recommends movies based on the ratings and preferences of similar users. We used the Surprise library for implementing this.\n",
    "* Clustering (K-Means): Groups similar movies based on features and recommends movies from the same cluster."
   ]
  },
  {
   "cell_type": "code",
   "execution_count": null,
   "id": "aca36236-4b26-4bec-9a4a-51858f16e6a7",
   "metadata": {},
   "outputs": [],
   "source": []
  },
  {
   "cell_type": "code",
   "execution_count": null,
   "id": "6e59f9a2-a0fc-4010-b33e-fbdbf8465fed",
   "metadata": {},
   "outputs": [],
   "source": []
  },
  {
   "cell_type": "code",
   "execution_count": null,
   "id": "a4a4296f-6519-4fc1-9998-bddd0096cd37",
   "metadata": {},
   "outputs": [],
   "source": []
  }
 ],
 "metadata": {
  "kernelspec": {
   "display_name": "Python 3 (ipykernel)",
   "language": "python",
   "name": "python3"
  },
  "language_info": {
   "codemirror_mode": {
    "name": "ipython",
    "version": 3
   },
   "file_extension": ".py",
   "mimetype": "text/x-python",
   "name": "python",
   "nbconvert_exporter": "python",
   "pygments_lexer": "ipython3",
   "version": "3.10.9"
  }
 },
 "nbformat": 4,
 "nbformat_minor": 5
}
