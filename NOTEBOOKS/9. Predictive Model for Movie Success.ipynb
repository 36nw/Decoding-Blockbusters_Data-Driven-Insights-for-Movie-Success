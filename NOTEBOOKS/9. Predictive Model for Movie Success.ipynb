{
 "cells": [
  {
   "cell_type": "markdown",
   "id": "62463806-8eb6-4b50-bde4-b0840298f571",
   "metadata": {},
   "source": [
    "### Import Libraries"
   ]
  },
  {
   "cell_type": "code",
   "execution_count": 1,
   "id": "3e53890b-c1e4-46b0-a7ca-42382270d457",
   "metadata": {
    "tags": []
   },
   "outputs": [],
   "source": [
    "# Import necessary libraries for data analysis and visualization\n",
    "import numpy as np  # Numerical computations\n",
    "import pandas as pd  # Data manipul* ation\n",
    "import matplotlib.pyplot as plt  # Visualizations\n",
    "import seaborn as sns  # Advanced visualizations"
   ]
  },
  {
   "cell_type": "markdown",
   "id": "5d5179bb-25d5-47d6-958c-5e0e093d5de9",
   "metadata": {},
   "source": [
    "### Read Data"
   ]
  },
  {
   "cell_type": "code",
   "execution_count": 2,
   "id": "1c087835-494b-43f2-bedc-0213c47cc790",
   "metadata": {
    "tags": []
   },
   "outputs": [],
   "source": [
    "data = pd.read_csv(\"C:/Users/muge/Dropbox/GMU/Portfolio/AIT 580/Movies/cleaned_movies_data.csv\")"
   ]
  },
  {
   "cell_type": "code",
   "execution_count": 3,
   "id": "74c9767a-1663-4b15-86e0-c67a1c121b09",
   "metadata": {
    "tags": []
   },
   "outputs": [
    {
     "name": "stdout",
     "output_type": "stream",
     "text": [
      "<class 'pandas.core.frame.DataFrame'>\n",
      "RangeIndex: 2544 entries, 0 to 2543\n",
      "Data columns (total 19 columns):\n",
      " #   Column                  Non-Null Count  Dtype  \n",
      "---  ------                  --------------  -----  \n",
      " 0   Title                   2544 non-null   object \n",
      " 1   US Gross                2544 non-null   float64\n",
      " 2   Worldwide Gross         2544 non-null   float64\n",
      " 3   US DVD Sales            2544 non-null   float64\n",
      " 4   Production Budget       2544 non-null   float64\n",
      " 5   Release Date            2537 non-null   object \n",
      " 6   MPAA Rating             2452 non-null   object \n",
      " 7   Running Time (min)      2544 non-null   float64\n",
      " 8   Distributor             2544 non-null   object \n",
      " 9   Source                  2544 non-null   object \n",
      " 10  Major Genre             2544 non-null   object \n",
      " 11  Creative Type           2544 non-null   object \n",
      " 12  Director                2544 non-null   object \n",
      " 13  Rotten Tomatoes Rating  2544 non-null   float64\n",
      " 14  IMDB Rating             2544 non-null   float64\n",
      " 15  IMDB Votes              2544 non-null   float64\n",
      " 16  Release Year            2537 non-null   float64\n",
      " 17  Profit                  2544 non-null   float64\n",
      " 18  ROI                     2544 non-null   float64\n",
      "dtypes: float64(11), object(8)\n",
      "memory usage: 377.8+ KB\n"
     ]
    },
    {
     "data": {
      "text/plain": [
       "Title                      0\n",
       "US Gross                   0\n",
       "Worldwide Gross            0\n",
       "US DVD Sales               0\n",
       "Production Budget          0\n",
       "Release Date               7\n",
       "MPAA Rating               92\n",
       "Running Time (min)         0\n",
       "Distributor                0\n",
       "Source                     0\n",
       "Major Genre                0\n",
       "Creative Type              0\n",
       "Director                   0\n",
       "Rotten Tomatoes Rating     0\n",
       "IMDB Rating                0\n",
       "IMDB Votes                 0\n",
       "Release Year               7\n",
       "Profit                     0\n",
       "ROI                        0\n",
       "dtype: int64"
      ]
     },
     "execution_count": 3,
     "metadata": {},
     "output_type": "execute_result"
    }
   ],
   "source": [
    "#1. Check the structure of the dataset:\n",
    "#Look for missing values, data types, and basic statistics.\n",
    "# Check the data types and missing values\n",
    "data.info()\n",
    "\n",
    "# Display basic statistics for numerical columns\n",
    "data.describe()\n",
    "\n",
    "# Check for missing values\n",
    "data.isnull().sum()"
   ]
  },
  {
   "cell_type": "code",
   "execution_count": 4,
   "id": "02c5962e-b639-49a6-9126-bbe6ec10246c",
   "metadata": {
    "tags": []
   },
   "outputs": [
    {
     "name": "stdout",
     "output_type": "stream",
     "text": [
      "Title                             object\n",
      "US Gross                         float64\n",
      "Worldwide Gross                  float64\n",
      "US DVD Sales                     float64\n",
      "Production Budget                float64\n",
      "Release Date              datetime64[ns]\n",
      "MPAA Rating                     category\n",
      "Running Time (min)               float64\n",
      "Distributor                       object\n",
      "Source                            object\n",
      "Major Genre                       object\n",
      "Creative Type                     object\n",
      "Director                          object\n",
      "Rotten Tomatoes Rating           float64\n",
      "IMDB Rating                      float64\n",
      "IMDB Votes                       float64\n",
      "Release Year                     float64\n",
      "Profit                           float64\n",
      "ROI                              float64\n",
      "dtype: object\n"
     ]
    }
   ],
   "source": [
    "# Convert 'Release Date' back to datetime\n",
    "data[\"Release Date\"] = pd.to_datetime(data[\"Release Date\"], errors='coerce')\n",
    "\n",
    "# Convert 'MPAA Rating' back to category\n",
    "rating_order = [\"unknown\", \"g\", \"pg\", \"pg-13\", \"r\", \"nc-17\"]\n",
    "data[\"MPAA Rating\"] = pd.Categorical(data[\"MPAA Rating\"], categories=rating_order, ordered=True)\n",
    "\n",
    "# Confirm the data types\n",
    "print(data.dtypes)"
   ]
  },
  {
   "cell_type": "markdown",
   "id": "54d1faf2-c82b-483b-b109-95a1ebbbdfcb",
   "metadata": {},
   "source": [
    "### Step 1: Define Success Criteria"
   ]
  },
  {
   "cell_type": "markdown",
   "id": "52a0c655-96d0-4c03-b9e7-d9c52fc3eb86",
   "metadata": {},
   "source": [
    "Let's define the target variable success based on whether the Worldwide Gross exceeds $100 million."
   ]
  },
  {
   "cell_type": "code",
   "execution_count": 5,
   "id": "e3ac7d88-5145-4710-81a8-6e72ffba7edd",
   "metadata": {
    "tags": []
   },
   "outputs": [],
   "source": [
    "# Define success criteria: 1 for successful, 0 for unsuccessful\n",
    "threshold = 100000000  # $100 million threshold\n",
    "data['success'] = (data['Worldwide Gross'] > threshold).astype(int)"
   ]
  },
  {
   "cell_type": "markdown",
   "id": "ad33189a-07df-4ceb-9802-0498dd7c544f",
   "metadata": {},
   "source": [
    "### Step 2: Data Preprocessing"
   ]
  },
  {
   "cell_type": "markdown",
   "id": "1ac74fa3-50cf-462c-abe8-c5df9b6add6b",
   "metadata": {},
   "source": [
    "We will:\n",
    "\n",
    "* Handle missing values.\n",
    "* Convert categorical features (like Release Date, MPAA Rating, Distributor) into numerical format.\n",
    "* Use numerical features like US Gross, Production Budget, Rotten Tomatoes Rating, etc."
   ]
  },
  {
   "cell_type": "code",
   "execution_count": 6,
   "id": "f420d129-b824-45a7-aa5a-d16ca689bc5d",
   "metadata": {
    "tags": []
   },
   "outputs": [
    {
     "name": "stderr",
     "output_type": "stream",
     "text": [
      "C:\\Users\\muge\\AppData\\Local\\Temp\\ipykernel_10548\\699676475.py:28: SettingWithCopyWarning: \n",
      "A value is trying to be set on a copy of a slice from a DataFrame.\n",
      "Try using .loc[row_indexer,col_indexer] = value instead\n",
      "\n",
      "See the caveats in the documentation: https://pandas.pydata.org/pandas-docs/stable/user_guide/indexing.html#returning-a-view-versus-a-copy\n",
      "  X.fillna(X.mean(), inplace=True)  # Fill missing values in numerical columns with the mean\n"
     ]
    }
   ],
   "source": [
    "# Handle missing values by imputing them with the mean (or other strategies depending on the column)\n",
    "data['Release Date'] = pd.to_datetime(data['Release Date'], errors='coerce')  # Convert 'Release Date' to datetime\n",
    "data['Release Year'] = data['Release Date'].dt.year  # Extract year from release date\n",
    "\n",
    "# Handle missing 'MPAA Rating' by filling with a placeholder (like 'Unknown')\n",
    "data['MPAA Rating'] = data['MPAA Rating'].astype('category')  # Ensure it's categorical\n",
    "data['MPAA Rating'] = data['MPAA Rating'].cat.add_categories('Unknown')  # Add 'Unknown' as a valid category\n",
    "data['MPAA Rating'].fillna('Unknown', inplace=True)  # Now fill missing values with 'Unknown'\n",
    "\n",
    "# Convert categorical variables into numerical values using LabelEncoder\n",
    "from sklearn.preprocessing import LabelEncoder\n",
    "\n",
    "le = LabelEncoder()\n",
    "data['MPAA Rating'] = le.fit_transform(data['MPAA Rating'])\n",
    "data['Distributor'] = le.fit_transform(data['Distributor'])\n",
    "data['Source'] = le.fit_transform(data['Source'])\n",
    "data['Major Genre'] = le.fit_transform(data['Major Genre'])\n",
    "data['Creative Type'] = le.fit_transform(data['Creative Type'])\n",
    "data['Director'] = le.fit_transform(data['Director'])\n",
    "\n",
    "# Define features and target\n",
    "X = data[['US Gross', 'Worldwide Gross', 'US DVD Sales', 'Production Budget', 'Running Time (min)', \n",
    "          'Rotten Tomatoes Rating', 'IMDB Rating', 'IMDB Votes', 'Release Year', \n",
    "          'MPAA Rating', 'Distributor', 'Source', 'Major Genre', 'Creative Type', 'Director']]  # Features\n",
    "y = data['success']  # Target: Success (1) or Unsuccessful (0)\n",
    "\n",
    "# Handle missing values for any remaining features\n",
    "X.fillna(X.mean(), inplace=True)  # Fill missing values in numerical columns with the mean\n",
    "\n",
    "# Split into train and test sets\n",
    "from sklearn.model_selection import train_test_split\n",
    "X_train, X_test, y_train, y_test = train_test_split(X, y, test_size=0.2, random_state=42)\n",
    "\n",
    "# Scale numerical features\n",
    "from sklearn.preprocessing import StandardScaler\n",
    "scaler = StandardScaler()\n",
    "X_train_scaled = scaler.fit_transform(X_train)\n",
    "X_test_scaled = scaler.transform(X_test)"
   ]
  },
  {
   "cell_type": "markdown",
   "id": "4006da8a-eec9-47c6-81c1-6d98dd3095eb",
   "metadata": {},
   "source": [
    "### Step 3: Train the Classification Model"
   ]
  },
  {
   "cell_type": "markdown",
   "id": "521af840-e15e-45c4-b768-7febf6e18d92",
   "metadata": {},
   "source": [
    "Let's use Random Forest Classifier for this task. It’s a powerful model for classification problems and can handle both numerical and categorical features well."
   ]
  },
  {
   "cell_type": "code",
   "execution_count": 7,
   "id": "593c5a1e-e91c-4aa5-af52-ec35079b969a",
   "metadata": {
    "tags": []
   },
   "outputs": [
    {
     "name": "stdout",
     "output_type": "stream",
     "text": [
      "Accuracy: 99.80%\n",
      "Classification Report:\n",
      "              precision    recall  f1-score   support\n",
      "\n",
      "           0       1.00      1.00      1.00       457\n",
      "           1       1.00      0.98      0.99        52\n",
      "\n",
      "    accuracy                           1.00       509\n",
      "   macro avg       1.00      0.99      0.99       509\n",
      "weighted avg       1.00      1.00      1.00       509\n",
      "\n",
      "Confusion Matrix:\n",
      "[[457   0]\n",
      " [  1  51]]\n"
     ]
    }
   ],
   "source": [
    "from sklearn.ensemble import RandomForestClassifier\n",
    "from sklearn.metrics import accuracy_score, classification_report, confusion_matrix\n",
    "\n",
    "# Initialize and train the Random Forest model\n",
    "rf_model = RandomForestClassifier(n_estimators=100, random_state=42)\n",
    "rf_model.fit(X_train_scaled, y_train)\n",
    "\n",
    "# Make predictions on the test set\n",
    "y_pred = rf_model.predict(X_test_scaled)\n",
    "\n",
    "# Evaluate the model\n",
    "accuracy = accuracy_score(y_test, y_pred)\n",
    "print(f'Accuracy: {accuracy * 100:.2f}%')\n",
    "print('Classification Report:')\n",
    "print(classification_report(y_test, y_pred))\n",
    "print('Confusion Matrix:')\n",
    "print(confusion_matrix(y_test, y_pred))"
   ]
  },
  {
   "cell_type": "markdown",
   "id": "dd7792f2-b525-46e0-b78c-7d82e0f492ff",
   "metadata": {},
   "source": [
    "* Accuracy: 99.80% is excellent and indicates that the model is performing well overall.\n",
    "* Classification Report:\n",
    "    * Precision, recall, and F1-score for both classes (0 and 1) are also strong, with very high values, especially for class 0.\n",
    "    * The recall for class 1 is slightly lower at 0.98, which means it is missing a few positive cases (false negatives), but this is still very good.\n",
    "* Confusion Matrix:\n",
    "    * The confusion matrix shows that the model has very few false positives (0) and false negatives (1), which further supports the high performance of the model.  \n"
   ]
  },
  {
   "cell_type": "markdown",
   "id": "360c53c1-0619-4e50-8c85-412ef0b2bd5e",
   "metadata": {},
   "source": [
    "### Step 4: Model Evaluation"
   ]
  },
  {
   "cell_type": "markdown",
   "id": "3da3c6da-dcd0-469d-8df2-60c9497c5968",
   "metadata": {},
   "source": [
    "Evaluate the model using accuracy, precision, recall, F1-score, and the confusion matrix:"
   ]
  },
  {
   "cell_type": "code",
   "execution_count": 8,
   "id": "72daa236-e86c-4bfd-b10c-0a0eb8413e6f",
   "metadata": {
    "tags": []
   },
   "outputs": [
    {
     "data": {
      "image/png": "[encoded data removed]",
      "text/plain": [
       "<Figure size 800x600 with 1 Axes>"
      ]
     },
     "metadata": {},
     "output_type": "display_data"
    }
   ],
   "source": [
    "from sklearn.metrics import roc_curve, auc\n",
    "import matplotlib.pyplot as plt\n",
    "\n",
    "# Compute ROC curve and AUC\n",
    "fpr, tpr, thresholds = roc_curve(y_test, rf_model.predict_proba(X_test_scaled)[:, 1])\n",
    "roc_auc = auc(fpr, tpr)\n",
    "\n",
    "# Plot ROC curve\n",
    "plt.figure(figsize=(8, 6))\n",
    "plt.plot(fpr, tpr, color='blue', label=f'ROC curve (area = {roc_auc:.2f})')\n",
    "plt.plot([0, 1], [0, 1], color='gray', linestyle='--')\n",
    "plt.xlim([0.0, 1.0])\n",
    "plt.ylim([0.0, 1.05])\n",
    "plt.xlabel('False Positive Rate')\n",
    "plt.ylabel('True Positive Rate')\n",
    "plt.title('Receiver Operating Characteristic (ROC)')\n",
    "plt.legend(loc='lower right')\n",
    "plt.show()"
   ]
  },
  {
   "cell_type": "markdown",
   "id": "807dcdcd-811a-4c2d-ba9f-7d2080ff057f",
   "metadata": {},
   "source": [
    "This chart is a Receiver Operating Characteristic (ROC) curve with an Area Under the Curve (AUC) of 1.00. Let's break down what this means:\n",
    "\n",
    "Understanding ROC Curves:\n",
    "* Purpose: ROC curves are used to evaluate the performance of binary classification models (models that predict one of two outcomes, like \"yes/no\" or \"true/false\").\n",
    "\n",
    "Interpretation:\n",
    "* The ROC curve plots the TPR against the FPR at various threshold settings.\n",
    "* A good model will have a curve that is closer to the top-left corner of the graph, indicating a high TPR and a low FPR.\n",
    "* A poor model will have a curve that is closer to the diagonal line (the dashed line in this case), indicating that the model's performance is no better than random guessing.\n",
    "\n",
    "Understanding AUC (Area Under the Curve):\n",
    "* Purpose: The AUC is a single value that summarizes the overall performance of the model.\n",
    "\n",
    "Interpretation:\n",
    "* An AUC of 1.00 indicates a perfect model that can perfectly distinguish between positive and negative cases.\n",
    "* An AUC of 0.5 indicates a model that performs no better than random guessing.\n",
    "* An AUC between 0.5 and 1.0 indicates a model that performs better than random guessing, with higher values indicating better performance.\n",
    "\n",
    "Interpretation of This Specific Chart:\n",
    "* Perfect Model: The ROC curve in this chart is a straight line along the top edge of the graph, and the AUC is 1.00. This indicates a perfect model.\n",
    "* No Errors: The model is able to perfectly distinguish between positive and negative cases at all threshold settings. There are no false positives and no false negatives.\n",
    "* Ideal Scenario: This is the ideal scenario for a classification model, but it is rarely achieved in real-world applications. It may suggest that the data is very simple, or that there is something wrong with the dataset or the model.\n",
    "\n",
    "Key Takeaways:\n",
    "* Perfect Classification: The model is a perfect classifier.\n",
    "* AUC of 1.00: The AUC confirms the perfect performance.\n",
    "* Possible Overfitting or Data Issues: A perfect ROC curve and AUC of 1.00 should raise suspicion. It could indicate that the model is overfitting the training data, or that there is an issue with the dataset (e.g., duplicate data, data leakage).\n",
    "\n",
    "This chart shows a perfect ROC curve, indicating a perfect classification model. However, it's crucial to investigate the data and model to ensure that this result is valid and not due to overfitting or data issues."
   ]
  },
  {
   "cell_type": "code",
   "execution_count": null,
   "id": "6dde09a0-0f81-468e-a6d3-dbe5b13ff6bb",
   "metadata": {},
   "outputs": [],
   "source": []
  }
 ],
 "metadata": {
  "kernelspec": {
   "display_name": "Python 3 (ipykernel)",
   "language": "python",
   "name": "python3"
  },
  "language_info": {
   "codemirror_mode": {
    "name": "ipython",
    "version": 3
   },
   "file_extension": ".py",
   "mimetype": "text/x-python",
   "name": "python",
   "nbconvert_exporter": "python",
   "pygments_lexer": "ipython3",
   "version": "3.10.9"
  }
 },
 "nbformat": 4,
 "nbformat_minor": 5
}
